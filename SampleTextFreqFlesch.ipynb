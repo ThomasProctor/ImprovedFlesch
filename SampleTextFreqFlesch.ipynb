{
 "cells": [
  {
   "cell_type": "code",
   "execution_count": 6,
   "metadata": {
    "collapsed": false
   },
   "outputs": [
    {
     "data": {
      "text/plain": [
       "['n', 'l']"
      ]
     },
     "execution_count": 6,
     "metadata": {},
     "output_type": "execute_result"
    }
   ],
   "source": [
    "list('nl')"
   ]
  },
  {
   "cell_type": "code",
   "execution_count": 2,
   "metadata": {
    "collapsed": false
   },
   "outputs": [],
   "source": [
    "import sys"
   ]
  },
  {
   "cell_type": "code",
   "execution_count": 3,
   "metadata": {
    "collapsed": true
   },
   "outputs": [],
   "source": [
    "import getopt"
   ]
  },
  {
   "cell_type": "code",
   "execution_count": 5,
   "metadata": {
    "collapsed": false
   },
   "outputs": [
    {
     "name": "stdout",
     "output_type": "stream",
     "text": [
      "Parser for command line options.\n",
      "\n",
      "This module helps scripts to parse the command line arguments in\n",
      "sys.argv.  It supports the same conventions as the Unix getopt()\n",
      "function (including the special meanings of arguments of the form `-'\n",
      "and `--').  Long options similar to those supported by GNU software\n",
      "may be used as well via an optional third argument.  This module\n",
      "provides two functions and an exception:\n",
      "\n",
      "getopt() -- Parse command line options\n",
      "gnu_getopt() -- Like getopt(), but allow option and non-option arguments\n",
      "to be intermixed.\n",
      "GetoptError -- exception (class) raised with 'opt' attribute, which is the\n",
      "option involved with the exception.\n",
      "\n"
     ]
    }
   ],
   "source": [
    "print(getopt.__doc__)"
   ]
  },
  {
   "cell_type": "code",
   "execution_count": 115,
   "metadata": {
    "collapsed": true
   },
   "outputs": [],
   "source": [
    "getopt.gnu_getopt?"
   ]
  },
  {
   "cell_type": "markdown",
   "metadata": {},
   "source": [
    "### Process text"
   ]
  },
  {
   "cell_type": "code",
   "execution_count": 6,
   "metadata": {
    "collapsed": true
   },
   "outputs": [],
   "source": [
    "filename='testtext.txt'"
   ]
  },
  {
   "cell_type": "code",
   "execution_count": 7,
   "metadata": {
    "collapsed": true
   },
   "outputs": [],
   "source": [
    "with open(filename) as f:\n",
    "    textstring=f.read()"
   ]
  },
  {
   "cell_type": "code",
   "execution_count": 8,
   "metadata": {
    "collapsed": true
   },
   "outputs": [],
   "source": [
    "import nltk.data"
   ]
  },
  {
   "cell_type": "code",
   "execution_count": 9,
   "metadata": {
    "collapsed": false
   },
   "outputs": [],
   "source": [
    "sent_detector=nltk.data.load('tokenizers/punkt/english.pickle')"
   ]
  },
  {
   "cell_type": "code",
   "execution_count": 10,
   "metadata": {
    "collapsed": false
   },
   "outputs": [
    {
     "name": "stdout",
     "output_type": "stream",
     "text": [
      "Because of smartphone apps like Uber, taxi politics have gotten a lot of press lately.\n",
      "-----\n",
      "One of the claims Uber proponents make is that normal taxis do not serve everybody.\n",
      "-----\n",
      "In New York City, taxis are heavily regulated.\n",
      "-----\n",
      "There are only about 14,000 taxis allowed to pick up passengers off the street in the center of the city.\n",
      "-----\n",
      "Uber gets around this regulation by only picking up passengers who request a ride on the app.\n",
      "-----\n",
      "Because there are few taxis, critics say that they can get away with only serving the few.\n",
      "-----\n",
      "Some claim that taxis only serve those with the privilege to live in the city center, and that they are biased against people of color.\n",
      "-----\n",
      "As a New Yorker who has spent my fair share of time waiting in taxi traffic on my bicycle, I wanted to get some understanding about this issue.\n",
      "-----\n",
      "Are taxis actually unfair, as critics claim?\n"
     ]
    }
   ],
   "source": [
    "#print('\\n-----\\n'.join(sent_detector.tokenize(textstring.strip())))"
   ]
  },
  {
   "cell_type": "code",
   "execution_count": 11,
   "metadata": {
    "collapsed": false
   },
   "outputs": [],
   "source": [
    "sent_list=sent_detector.tokenize(textstring.strip(),realign_boundaries=False)"
   ]
  },
  {
   "cell_type": "code",
   "execution_count": 12,
   "metadata": {
    "collapsed": false
   },
   "outputs": [],
   "source": [
    "import string"
   ]
  },
  {
   "cell_type": "code",
   "execution_count": 13,
   "metadata": {
    "collapsed": false
   },
   "outputs": [],
   "source": [
    "def remove_stuff(st,remove):\n",
    "    import string\n",
    "    return st.translate(string.maketrans('',''),remove)"
   ]
  },
  {
   "cell_type": "code",
   "execution_count": 14,
   "metadata": {
    "collapsed": true
   },
   "outputs": [],
   "source": [
    "def remove_all(st):\n",
    "    return remove_stuff(st,string.digits+string.punctuation)"
   ]
  },
  {
   "cell_type": "code",
   "execution_count": 15,
   "metadata": {
    "collapsed": true
   },
   "outputs": [],
   "source": [
    "def process_string(st):\n",
    "    return remove_all(st.replace('-',' ')).lower().split()"
   ]
  },
  {
   "cell_type": "code",
   "execution_count": 16,
   "metadata": {
    "collapsed": false
   },
   "outputs": [],
   "source": [
    "words_sent_list=map(process_string,sent_list)"
   ]
  },
  {
   "cell_type": "markdown",
   "metadata": {},
   "source": [
    "### Get functional and frequency data"
   ]
  },
  {
   "cell_type": "code",
   "execution_count": 17,
   "metadata": {
    "collapsed": true
   },
   "outputs": [],
   "source": [
    "import numpy as np"
   ]
  },
  {
   "cell_type": "code",
   "execution_count": 18,
   "metadata": {
    "collapsed": false
   },
   "outputs": [],
   "source": [
    "from equiv_sylb import equiv_sylb\n",
    "#equiv_sylb=e.equiv_sylb"
   ]
  },
  {
   "cell_type": "code",
   "execution_count": 19,
   "metadata": {
    "collapsed": false
   },
   "outputs": [
    {
     "data": {
      "text/plain": [
       "1.044970334824336"
      ]
     },
     "execution_count": 19,
     "metadata": {},
     "output_type": "execute_result"
    }
   ],
   "source": [
    "equiv_sylb(50)"
   ]
  },
  {
   "cell_type": "code",
   "execution_count": 20,
   "metadata": {
    "collapsed": true
   },
   "outputs": [],
   "source": [
    "import pickle"
   ]
  },
  {
   "cell_type": "code",
   "execution_count": 21,
   "metadata": {
    "collapsed": false
   },
   "outputs": [],
   "source": [
    "with open('frequency_dict.pkl','rb') as f:\n",
    "    freq_ser=pickle.load(f)"
   ]
  },
  {
   "cell_type": "markdown",
   "metadata": {},
   "source": [
    "### Compute "
   ]
  },
  {
   "cell_type": "code",
   "execution_count": 22,
   "metadata": {
    "collapsed": true
   },
   "outputs": [],
   "source": [
    "def get_frequency(word,ser):\n",
    "    if ser.has_key(word):\n",
    "        return ser[word]\n",
    "    else:\n",
    "        return 1\n"
   ]
  },
  {
   "cell_type": "code",
   "execution_count": 23,
   "metadata": {
    "collapsed": false
   },
   "outputs": [],
   "source": [
    "just_words=[item for sublist in words_sent_list for item in sublist]"
   ]
  },
  {
   "cell_type": "code",
   "execution_count": 24,
   "metadata": {
    "collapsed": false
   },
   "outputs": [],
   "source": [
    "frequency=np.array(map(lambda x: get_frequency(x,freq_ser),just_words))"
   ]
  },
  {
   "cell_type": "code",
   "execution_count": 25,
   "metadata": {
    "collapsed": true
   },
   "outputs": [],
   "source": [
    "total_words=len(just_words)\n",
    "total_sent=len(words_sent_list)\n",
    "total_sylb=equiv_sylb(frequency).sum()"
   ]
  },
  {
   "cell_type": "code",
   "execution_count": 26,
   "metadata": {
    "collapsed": true
   },
   "outputs": [],
   "source": [
    "from __future__ import division"
   ]
  },
  {
   "cell_type": "code",
   "execution_count": 27,
   "metadata": {
    "collapsed": true
   },
   "outputs": [],
   "source": [
    "def flesch_kincaid_gl(words,sent,sylb):\n",
    "    return 0.39*(words/sent)+11.8*(sylb/words)-15.59"
   ]
  },
  {
   "cell_type": "code",
   "execution_count": 28,
   "metadata": {
    "collapsed": false
   },
   "outputs": [
    {
     "data": {
      "text/plain": [
       "8.9534532897635515"
      ]
     },
     "execution_count": 28,
     "metadata": {},
     "output_type": "execute_result"
    }
   ],
   "source": [
    "improved_flesch_gl=flesch_kincaid_gl(total_words,total_sent,total_sylb)\n",
    "improved_flesch_gl"
   ]
  },
  {
   "cell_type": "markdown",
   "metadata": {
    "collapsed": true
   },
   "source": [
    "### Compute problem sentences"
   ]
  },
  {
   "cell_type": "code",
   "execution_count": 29,
   "metadata": {
    "collapsed": true
   },
   "outputs": [],
   "source": [
    "n_sent=2"
   ]
  },
  {
   "cell_type": "code",
   "execution_count": 31,
   "metadata": {
    "collapsed": true
   },
   "outputs": [],
   "source": [
    "def get_sent_freq(sent,freq_ser):\n",
    "    return map(lambda x: get_frequency(x,freq_ser),sent)"
   ]
  },
  {
   "cell_type": "code",
   "execution_count": 40,
   "metadata": {
    "collapsed": false
   },
   "outputs": [],
   "source": [
    "sent_freq=map(lambda x: np.array(get_sent_freq(x,freq_ser)),words_sent_list)"
   ]
  },
  {
   "cell_type": "code",
   "execution_count": 44,
   "metadata": {
    "collapsed": true
   },
   "outputs": [],
   "source": [
    "words_per_sent=map(lambda x: x.shape[0], sent_freq)"
   ]
  },
  {
   "cell_type": "code",
   "execution_count": 49,
   "metadata": {
    "collapsed": true
   },
   "outputs": [],
   "source": [
    "def get_sent_sylb(freq_list):\n",
    "    return sum(map(lambda x: equiv_sylb(x),freq_list))"
   ]
  },
  {
   "cell_type": "code",
   "execution_count": 53,
   "metadata": {
    "collapsed": true
   },
   "outputs": [],
   "source": [
    "sylb_per_sent=map(lambda x: get_sent_sylb(x),sent_freq)"
   ]
  },
  {
   "cell_type": "code",
   "execution_count": 54,
   "metadata": {
    "collapsed": false
   },
   "outputs": [],
   "source": [
    "imp_flesch_sent=map(lambda x,y: flesch_kincaid_gl(x,1,y),words_per_sent,sylb_per_sent)"
   ]
  },
  {
   "cell_type": "code",
   "execution_count": 58,
   "metadata": {
    "collapsed": false
   },
   "outputs": [],
   "source": [
    "top_arg=np.argpartition(np.array(imp_flesch_sent),-n_sent)[-n_sent:]"
   ]
  },
  {
   "cell_type": "code",
   "execution_count": 61,
   "metadata": {
    "collapsed": false
   },
   "outputs": [],
   "source": [
    "top_sent=map(lambda x: sent_list[x], top_arg)"
   ]
  },
  {
   "cell_type": "code",
   "execution_count": 63,
   "metadata": {
    "collapsed": true
   },
   "outputs": [],
   "source": [
    "top_flesch=map(lambda x: imp_flesch_sent[x], top_arg)"
   ]
  },
  {
   "cell_type": "code",
   "execution_count": 98,
   "metadata": {
    "collapsed": false
   },
   "outputs": [],
   "source": [
    "sent_print=map(lambda x: '%1.0f\\t\\t: %s' % x, zip(top_flesch,top_sent))"
   ]
  },
  {
   "cell_type": "code",
   "execution_count": 109,
   "metadata": {
    "collapsed": false
   },
   "outputs": [],
   "source": [
    "full_document_string='document grade level: %1.0f' % improved_flesch_gl"
   ]
  },
  {
   "cell_type": "code",
   "execution_count": 107,
   "metadata": {
    "collapsed": false
   },
   "outputs": [],
   "source": [
    "sentence_string=('grade level \\t: sentence\\n'+('-'*40)+'\\n'+(('\\n'+('-'*40)+'\\n').join(sent_print)))"
   ]
  },
  {
   "cell_type": "code",
   "execution_count": 112,
   "metadata": {
    "collapsed": false
   },
   "outputs": [
    {
     "name": "stdout",
     "output_type": "stream",
     "text": [
      "document grade level: 9\n",
      "--------------------------------------------------------------------------------\n",
      "\n",
      "grade level \t: sentence\n",
      "----------------------------------------\n",
      "17\t\t: Because of smartphone apps like Uber, taxi politics have gotten a lot of press lately.\n",
      "----------------------------------------\n",
      "20\t\t: Are taxis actually unfair, as critics claim?\n"
     ]
    }
   ],
   "source": [
    "print(full_document_string+'\\n'+'-'*80+'\\n\\n'+sentence_string)"
   ]
  },
  {
   "cell_type": "code",
   "execution_count": null,
   "metadata": {
    "collapsed": true
   },
   "outputs": [],
   "source": []
  }
 ],
 "metadata": {
  "kernelspec": {
   "display_name": "Python 2",
   "language": "python",
   "name": "python2"
  },
  "language_info": {
   "codemirror_mode": {
    "name": "ipython",
    "version": 2
   },
   "file_extension": ".py",
   "mimetype": "text/x-python",
   "name": "python",
   "nbconvert_exporter": "python",
   "pygments_lexer": "ipython2",
   "version": "2.7.6"
  }
 },
 "nbformat": 4,
 "nbformat_minor": 0
}
