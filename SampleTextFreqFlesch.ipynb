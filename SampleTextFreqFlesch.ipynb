{
 "cells": [
  {
   "cell_type": "code",
   "execution_count": 1,
   "metadata": {
    "collapsed": true
   },
   "outputs": [],
   "source": [
    "filename='testtext.txt'"
   ]
  },
  {
   "cell_type": "code",
   "execution_count": 2,
   "metadata": {
    "collapsed": true
   },
   "outputs": [],
   "source": [
    "with open(filename) as f:\n",
    "    textstring=f.read()"
   ]
  },
  {
   "cell_type": "code",
   "execution_count": 4,
   "metadata": {
    "collapsed": true
   },
   "outputs": [],
   "source": [
    "import nltk.data"
   ]
  },
  {
   "cell_type": "code",
   "execution_count": 6,
   "metadata": {
    "collapsed": false
   },
   "outputs": [],
   "source": [
    "sent_detector=nltk.data.load('tokenizers/punkt/english.pickle')"
   ]
  },
  {
   "cell_type": "code",
   "execution_count": 8,
   "metadata": {
    "collapsed": false
   },
   "outputs": [
    {
     "name": "stdout",
     "output_type": "stream",
     "text": [
      "Because of smartphone apps like Uber, taxi politics have gotten a lot of press lately.\n",
      "-----\n",
      "One of the claims Uber proponents make is that normal taxis do not serve everybody.\n",
      "-----\n",
      "In New York City, taxis are heavily regulated.\n",
      "-----\n",
      "There are only about 14,000 taxis allowed to pick up passengers off the street in the center of the city.\n",
      "-----\n",
      "Uber gets around this regulation by only picking up passengers who request a ride on the app.\n",
      "-----\n",
      "Because there are few taxis, critics say that they can get away with only serving the few.\n",
      "-----\n",
      "Some claim that taxis only serve those with the privilege to live in the city center, and that they are biased against people of color.\n",
      "-----\n",
      "As a New Yorker who has spent my fair share of time waiting in taxi traffic on my bicycle, I wanted to get some understanding about this issue.\n",
      "-----\n",
      "Are taxis actually unfair, as critics claim?\n"
     ]
    }
   ],
   "source": [
    "print('\\n-----\\n'.join(sent_detector.tokenize(textstring.strip())))"
   ]
  },
  {
   "cell_type": "code",
   "execution_count": 16,
   "metadata": {
    "collapsed": false
   },
   "outputs": [],
   "source": [
    "sent_list=sent_detector.tokenize(textstring.strip(),realign_boundaries=False)"
   ]
  },
  {
   "cell_type": "code",
   "execution_count": 24,
   "metadata": {
    "collapsed": false
   },
   "outputs": [],
   "source": [
    "import string"
   ]
  },
  {
   "cell_type": "code",
   "execution_count": null,
   "metadata": {
    "collapsed": true
   },
   "outputs": [],
   "source": [
    "def replace_dashes(st):\n",
    "    "
   ]
  },
  {
   "cell_type": "code",
   "execution_count": 47,
   "metadata": {
    "collapsed": false
   },
   "outputs": [],
   "source": [
    "def remove_stuff(st,remove):\n",
    "    import string\n",
    "    return st.translate(string.maketrans('',''),remove)"
   ]
  },
  {
   "cell_type": "code",
   "execution_count": 48,
   "metadata": {
    "collapsed": true
   },
   "outputs": [],
   "source": [
    "def remove_all(st):\n",
    "    return remove_stuff(st,string.digits+string.punctuation)"
   ]
  },
  {
   "cell_type": "code",
   "execution_count": 49,
   "metadata": {
    "collapsed": true
   },
   "outputs": [],
   "source": [
    "def process_string(st):\n",
    "    return remove_all(st.replace('-',' ')).lower().split()"
   ]
  },
  {
   "cell_type": "code",
   "execution_count": 50,
   "metadata": {
    "collapsed": false
   },
   "outputs": [
    {
     "data": {
      "text/plain": [
       "['because',\n",
       " 'of',\n",
       " 'smartphone',\n",
       " 'apps',\n",
       " 'like',\n",
       " 'uber',\n",
       " 'taxi',\n",
       " 'politics',\n",
       " 'have',\n",
       " 'gotten',\n",
       " 'a',\n",
       " 'lot',\n",
       " 'of',\n",
       " 'press',\n",
       " 'lately']"
      ]
     },
     "execution_count": 50,
     "metadata": {},
     "output_type": "execute_result"
    }
   ],
   "source": [
    "process_string(sent_list[0])"
   ]
  },
  {
   "cell_type": "code",
   "execution_count": 54,
   "metadata": {
    "collapsed": false
   },
   "outputs": [],
   "source": [
    "words_sent_list=map(process_string,sent_list)"
   ]
  },
  {
   "cell_type": "code",
   "execution_count": 55,
   "metadata": {
    "collapsed": false
   },
   "outputs": [
    {
     "data": {
      "text/plain": [
       "[15, 15, 8, 19, 17, 17, 25, 28, 7]"
      ]
     },
     "execution_count": 55,
     "metadata": {},
     "output_type": "execute_result"
    }
   ],
   "source": [
    "map(len,words_sent_list)"
   ]
  },
  {
   "cell_type": "code",
   "execution_count": 42,
   "metadata": {
    "collapsed": false
   },
   "outputs": [
    {
     "ename": "AttributeError",
     "evalue": "'tuple' object has no attribute 'lower'",
     "output_type": "error",
     "traceback": [
      "\u001b[1;31m---------------------------------------------------------------------------\u001b[0m",
      "\u001b[1;31mAttributeError\u001b[0m                            Traceback (most recent call last)",
      "\u001b[1;32m<ipython-input-42-94f1e670d5f7>\u001b[0m in \u001b[0;36m<module>\u001b[1;34m()\u001b[0m\n\u001b[1;32m----> 1\u001b[1;33m \u001b[0mmap\u001b[0m\u001b[1;33m(\u001b[0m\u001b[0mprocess_string\u001b[0m\u001b[1;33m,\u001b[0m\u001b[0msent_list\u001b[0m\u001b[1;33m)\u001b[0m\u001b[1;33m\u001b[0m\u001b[0m\n\u001b[0m",
      "\u001b[1;32m<ipython-input-41-cdcbb2ac804b>\u001b[0m in \u001b[0;36mprocess_string\u001b[1;34m(st)\u001b[0m\n\u001b[0;32m      1\u001b[0m \u001b[1;32mdef\u001b[0m \u001b[0mprocess_string\u001b[0m\u001b[1;33m(\u001b[0m\u001b[0mst\u001b[0m\u001b[1;33m)\u001b[0m\u001b[1;33m:\u001b[0m\u001b[1;33m\u001b[0m\u001b[0m\n\u001b[1;32m----> 2\u001b[1;33m     \u001b[1;32mreturn\u001b[0m \u001b[0mremove_all\u001b[0m\u001b[1;33m(\u001b[0m\u001b[0mst\u001b[0m\u001b[1;33m.\u001b[0m\u001b[0mreplace\u001b[0m\u001b[1;33m(\u001b[0m\u001b[1;34m'-'\u001b[0m\u001b[1;33m,\u001b[0m\u001b[1;34m' '\u001b[0m\u001b[1;33m)\u001b[0m\u001b[1;33m)\u001b[0m\u001b[1;33m.\u001b[0m\u001b[0mlower\u001b[0m\u001b[1;33m(\u001b[0m\u001b[1;33m)\u001b[0m\u001b[1;33m.\u001b[0m\u001b[0msplit\u001b[0m\u001b[1;33m(\u001b[0m\u001b[1;33m)\u001b[0m\u001b[1;33m\u001b[0m\u001b[0m\n\u001b[0m",
      "\u001b[1;31mAttributeError\u001b[0m: 'tuple' object has no attribute 'lower'"
     ]
    }
   ],
   "source": [
    "map(lambda x: remove_pukt(x).lower().split(),sent_list)"
   ]
  },
  {
   "cell_type": "code",
   "execution_count": 36,
   "metadata": {
    "collapsed": true
   },
   "outputs": [],
   "source": [
    "word_sent_list=map(lambda x: remove_pukt(x).lower().split(),sent_list)"
   ]
  },
  {
   "cell_type": "code",
   "execution_count": 37,
   "metadata": {
    "collapsed": false
   },
   "outputs": [
    {
     "data": {
      "text/plain": [
       "[15, 15, 8, 20, 17, 17, 25, 28, 7]"
      ]
     },
     "execution_count": 37,
     "metadata": {},
     "output_type": "execute_result"
    }
   ],
   "source": [
    "map(len,word_sent_list)"
   ]
  },
  {
   "cell_type": "code",
   "execution_count": 61,
   "metadata": {
    "collapsed": true
   },
   "outputs": [],
   "source": [
    "params=[ 4.60009789, -0.8802993 ]\n",
    "import numpy as np\n",
    "def equiv_sylb(freq,params):\n",
    "    return np.exp((np.log(freq)-params[0])/params[1])"
   ]
  },
  {
   "cell_type": "code",
   "execution_count": 62,
   "metadata": {
    "collapsed": false
   },
   "outputs": [
    {
     "data": {
      "text/plain": [
       "185.97396035548638"
      ]
     },
     "execution_count": 62,
     "metadata": {},
     "output_type": "execute_result"
    }
   ],
   "source": [
    "equiv_sylb(1,params)"
   ]
  },
  {
   "cell_type": "code",
   "execution_count": 63,
   "metadata": {
    "collapsed": true
   },
   "outputs": [],
   "source": [
    "import pandas as pd"
   ]
  },
  {
   "cell_type": "code",
   "execution_count": 66,
   "metadata": {
    "collapsed": false
   },
   "outputs": [],
   "source": [
    "freq_ser=pd.read_pickle('brown_frequency.pkl')"
   ]
  },
  {
   "cell_type": "code",
   "execution_count": 72,
   "metadata": {
    "collapsed": false
   },
   "outputs": [],
   "source": [
    "just_words=[item for sublist in words_sent_list for item in sublist]"
   ]
  },
  {
   "cell_type": "code",
   "execution_count": 86,
   "metadata": {
    "collapsed": false
   },
   "outputs": [],
   "source": [
    "frequency=np.array(map(lambda x: get_frequency(x,freq_ser),just_words))"
   ]
  },
  {
   "cell_type": "code",
   "execution_count": 87,
   "metadata": {
    "collapsed": false
   },
   "outputs": [
    {
     "data": {
      "text/plain": [
       "array([  3.24448815e-01,   6.42846044e-03,   1.85973960e+02,\n",
       "         1.85973960e+02,   1.06083361e-01,   1.85973960e+02,\n",
       "         1.75211431e+01,   7.44200790e+00,   5.88194379e-02,\n",
       "         1.22026376e+01,   7.52718818e-03,   1.65071742e+00,\n",
       "         6.42846044e-03,   8.57904994e+00,   3.85057575e+01,\n",
       "         7.66925002e-02,   6.42846044e-03,   2.71780376e-03,\n",
       "         2.98839567e+01,   1.85973960e+02,   1.85973960e+02,\n",
       "         3.17706964e-01,   3.93132860e-02,   1.88646949e-02,\n",
       "         5.02994845e+00,   1.85973960e+02,   1.53138265e-01,\n",
       "         4.74430609e-02,   6.97414704e+00,   3.07617203e+00,\n",
       "         1.12661431e-02,   3.60937121e-01,   1.85973960e+02,\n",
       "         1.96082879e+00,   1.85973960e+02,   1.14576456e-01,\n",
       "         4.40002791e+00,   5.33891783e+01,   9.39383230e-02,\n",
       "         1.14576456e-01,   1.48261113e-01,   9.79727730e-02,\n",
       "         1.85973960e+02,   9.27847788e+00,   6.90787821e-03,\n",
       "         3.90369575e+00,   7.11597850e-02,   3.85057575e+01,\n",
       "         2.57024666e-01,   2.71780376e-03,   1.06665442e+00,\n",
       "         1.12661431e-02,   2.71780376e-03,   2.40213289e+00,\n",
       "         6.42846044e-03,   2.71780376e-03,   1.96082879e+00,\n",
       "         1.85973960e+02,   5.02994845e+00,   2.57915015e-01,\n",
       "         6.43728689e-02,   1.85973960e+02,   7.14784354e-02,\n",
       "         1.48261113e-01,   1.35979946e+01,   7.11597850e-02,\n",
       "         3.85057575e+01,   1.18176419e-01,   2.42934952e+01,\n",
       "         7.52718818e-03,   5.27910455e+00,   2.92168050e-02,\n",
       "         2.71780376e-03,   1.85973960e+02,   3.24448815e-01,\n",
       "         9.39383230e-02,   1.14576456e-01,   5.13171221e-01,\n",
       "         1.85973960e+02,   5.33891783e+01,   3.46387203e-01,\n",
       "         1.88646949e-02,   7.09225450e-02,   2.33506545e-01,\n",
       "         1.93712147e-01,   3.12500436e-01,   2.77026514e-02,\n",
       "         1.48261113e-01,   2.98839567e+01,   2.71780376e-03,\n",
       "         5.13171221e-01,   1.95288468e-01,   7.97258582e+00,\n",
       "         1.88646949e-02,   1.85973960e+02,   1.48261113e-01,\n",
       "         6.97414704e+00,   4.10221770e-01,   2.77026514e-02,\n",
       "         2.71780376e-03,   5.33891783e+01,   6.90787821e-03,\n",
       "         1.26315466e+00,   1.12661431e-02,   2.71780376e-03,\n",
       "         1.96082879e+00,   2.40213289e+00,   5.89964304e-03,\n",
       "         1.88646949e-02,   7.09225450e-02,   1.14576456e-01,\n",
       "         1.85973960e+02,   4.28019734e-01,   3.62624903e-01,\n",
       "         6.42846044e-03,   2.13644258e+00,   3.49804202e-02,\n",
       "         7.52718818e-03,   3.60937121e-01,   1.85973960e+02,\n",
       "         1.18176419e-01,   1.93192012e-01,   3.50311837e+00,\n",
       "         1.04754615e-01,   6.18744897e+00,   6.55869007e+00,\n",
       "         6.42846044e-03,   1.43668055e-01,   1.29954370e+00,\n",
       "         1.12661431e-02,   1.75211431e+01,   1.00934075e+01,\n",
       "         2.92168050e-02,   1.04754615e-01,   8.46230950e+01,\n",
       "         1.85973960e+02,   7.38007084e-01,   6.90787821e-03,\n",
       "         1.93712147e-01,   1.95288468e-01,   6.97414704e+00,\n",
       "         9.79727730e-02,   6.43728689e-02,   1.00934075e+01,\n",
       "         1.14576456e-01,   1.85973960e+02,   3.90369575e+00,\n",
       "         2.98839567e+01,   3.49804202e-02,   5.33891783e+01,\n",
       "         7.97258582e+00])"
      ]
     },
     "execution_count": 87,
     "metadata": {},
     "output_type": "execute_result"
    }
   ],
   "source": [
    "equiv_sylb(frequency,params)"
   ]
  },
  {
   "cell_type": "code",
   "execution_count": 85,
   "metadata": {
    "collapsed": true
   },
   "outputs": [],
   "source": [
    "def get_frequency(word,ser):\n",
    "    try:\n",
    "        return ser.loc[word]\n",
    "    except KeyError:\n",
    "        return 1\n"
   ]
  },
  {
   "cell_type": "code",
   "execution_count": null,
   "metadata": {
    "collapsed": true
   },
   "outputs": [],
   "source": []
  }
 ],
 "metadata": {
  "kernelspec": {
   "display_name": "Python 2",
   "language": "python",
   "name": "python2"
  },
  "language_info": {
   "codemirror_mode": {
    "name": "ipython",
    "version": 2
   },
   "file_extension": ".py",
   "mimetype": "text/x-python",
   "name": "python",
   "nbconvert_exporter": "python",
   "pygments_lexer": "ipython2",
   "version": "2.7.6"
  }
 },
 "nbformat": 4,
 "nbformat_minor": 0
}
