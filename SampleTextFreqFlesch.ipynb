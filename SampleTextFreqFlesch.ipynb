{
 "cells": [
  {
   "cell_type": "code",
   "execution_count": 1,
   "metadata": {
    "collapsed": true
   },
   "outputs": [],
   "source": [
    "filename='testtext.txt'"
   ]
  },
  {
   "cell_type": "code",
   "execution_count": 2,
   "metadata": {
    "collapsed": true
   },
   "outputs": [],
   "source": [
    "with open(filename) as f:\n",
    "    textstring=f.read()"
   ]
  },
  {
   "cell_type": "code",
   "execution_count": 4,
   "metadata": {
    "collapsed": true
   },
   "outputs": [],
   "source": [
    "import nltk.data"
   ]
  },
  {
   "cell_type": "code",
   "execution_count": 6,
   "metadata": {
    "collapsed": false
   },
   "outputs": [],
   "source": [
    "sent_detector=nltk.data.load('tokenizers/punkt/english.pickle')"
   ]
  },
  {
   "cell_type": "code",
   "execution_count": 8,
   "metadata": {
    "collapsed": false
   },
   "outputs": [
    {
     "name": "stdout",
     "output_type": "stream",
     "text": [
      "Because of smartphone apps like Uber, taxi politics have gotten a lot of press lately.\n",
      "-----\n",
      "One of the claims Uber proponents make is that normal taxis do not serve everybody.\n",
      "-----\n",
      "In New York City, taxis are heavily regulated.\n",
      "-----\n",
      "There are only about 14,000 taxis allowed to pick up passengers off the street in the center of the city.\n",
      "-----\n",
      "Uber gets around this regulation by only picking up passengers who request a ride on the app.\n",
      "-----\n",
      "Because there are few taxis, critics say that they can get away with only serving the few.\n",
      "-----\n",
      "Some claim that taxis only serve those with the privilege to live in the city center, and that they are biased against people of color.\n",
      "-----\n",
      "As a New Yorker who has spent my fair share of time waiting in taxi traffic on my bicycle, I wanted to get some understanding about this issue.\n",
      "-----\n",
      "Are taxis actually unfair, as critics claim?\n"
     ]
    }
   ],
   "source": [
    "print('\\n-----\\n'.join(sent_detector.tokenize(textstring.strip())))"
   ]
  },
  {
   "cell_type": "code",
   "execution_count": 16,
   "metadata": {
    "collapsed": false
   },
   "outputs": [],
   "source": [
    "sent_list=sent_detector.tokenize(textstring.strip(),realign_boundaries=False)"
   ]
  },
  {
   "cell_type": "code",
   "execution_count": 24,
   "metadata": {
    "collapsed": false
   },
   "outputs": [],
   "source": [
    "import string"
   ]
  },
  {
   "cell_type": "code",
   "execution_count": null,
   "metadata": {
    "collapsed": true
   },
   "outputs": [],
   "source": [
    "def replace_dashes(st):\n",
    "    "
   ]
  },
  {
   "cell_type": "code",
   "execution_count": 47,
   "metadata": {
    "collapsed": false
   },
   "outputs": [],
   "source": [
    "def remove_stuff(st,remove):\n",
    "    import string\n",
    "    return st.translate(string.maketrans('',''),remove)"
   ]
  },
  {
   "cell_type": "code",
   "execution_count": 48,
   "metadata": {
    "collapsed": true
   },
   "outputs": [],
   "source": [
    "def remove_all(st):\n",
    "    return remove_stuff(st,string.digits+string.punctuation)"
   ]
  },
  {
   "cell_type": "code",
   "execution_count": 49,
   "metadata": {
    "collapsed": true
   },
   "outputs": [],
   "source": [
    "def process_string(st):\n",
    "    return remove_all(st.replace('-',' ')).lower().split()"
   ]
  },
  {
   "cell_type": "code",
   "execution_count": 50,
   "metadata": {
    "collapsed": false
   },
   "outputs": [
    {
     "data": {
      "text/plain": [
       "['because',\n",
       " 'of',\n",
       " 'smartphone',\n",
       " 'apps',\n",
       " 'like',\n",
       " 'uber',\n",
       " 'taxi',\n",
       " 'politics',\n",
       " 'have',\n",
       " 'gotten',\n",
       " 'a',\n",
       " 'lot',\n",
       " 'of',\n",
       " 'press',\n",
       " 'lately']"
      ]
     },
     "execution_count": 50,
     "metadata": {},
     "output_type": "execute_result"
    }
   ],
   "source": [
    "process_string(sent_list[0])"
   ]
  },
  {
   "cell_type": "code",
   "execution_count": 54,
   "metadata": {
    "collapsed": false
   },
   "outputs": [],
   "source": [
    "words_sent_list=map(process_string,sent_list)"
   ]
  },
  {
   "cell_type": "code",
   "execution_count": 55,
   "metadata": {
    "collapsed": false
   },
   "outputs": [
    {
     "data": {
      "text/plain": [
       "[15, 15, 8, 19, 17, 17, 25, 28, 7]"
      ]
     },
     "execution_count": 55,
     "metadata": {},
     "output_type": "execute_result"
    }
   ],
   "source": [
    "map(len,words_sent_list)"
   ]
  },
  {
   "cell_type": "code",
   "execution_count": 42,
   "metadata": {
    "collapsed": false
   },
   "outputs": [
    {
     "ename": "AttributeError",
     "evalue": "'tuple' object has no attribute 'lower'",
     "output_type": "error",
     "traceback": [
      "\u001b[1;31m---------------------------------------------------------------------------\u001b[0m",
      "\u001b[1;31mAttributeError\u001b[0m                            Traceback (most recent call last)",
      "\u001b[1;32m<ipython-input-42-94f1e670d5f7>\u001b[0m in \u001b[0;36m<module>\u001b[1;34m()\u001b[0m\n\u001b[1;32m----> 1\u001b[1;33m \u001b[0mmap\u001b[0m\u001b[1;33m(\u001b[0m\u001b[0mprocess_string\u001b[0m\u001b[1;33m,\u001b[0m\u001b[0msent_list\u001b[0m\u001b[1;33m)\u001b[0m\u001b[1;33m\u001b[0m\u001b[0m\n\u001b[0m",
      "\u001b[1;32m<ipython-input-41-cdcbb2ac804b>\u001b[0m in \u001b[0;36mprocess_string\u001b[1;34m(st)\u001b[0m\n\u001b[0;32m      1\u001b[0m \u001b[1;32mdef\u001b[0m \u001b[0mprocess_string\u001b[0m\u001b[1;33m(\u001b[0m\u001b[0mst\u001b[0m\u001b[1;33m)\u001b[0m\u001b[1;33m:\u001b[0m\u001b[1;33m\u001b[0m\u001b[0m\n\u001b[1;32m----> 2\u001b[1;33m     \u001b[1;32mreturn\u001b[0m \u001b[0mremove_all\u001b[0m\u001b[1;33m(\u001b[0m\u001b[0mst\u001b[0m\u001b[1;33m.\u001b[0m\u001b[0mreplace\u001b[0m\u001b[1;33m(\u001b[0m\u001b[1;34m'-'\u001b[0m\u001b[1;33m,\u001b[0m\u001b[1;34m' '\u001b[0m\u001b[1;33m)\u001b[0m\u001b[1;33m)\u001b[0m\u001b[1;33m.\u001b[0m\u001b[0mlower\u001b[0m\u001b[1;33m(\u001b[0m\u001b[1;33m)\u001b[0m\u001b[1;33m.\u001b[0m\u001b[0msplit\u001b[0m\u001b[1;33m(\u001b[0m\u001b[1;33m)\u001b[0m\u001b[1;33m\u001b[0m\u001b[0m\n\u001b[0m",
      "\u001b[1;31mAttributeError\u001b[0m: 'tuple' object has no attribute 'lower'"
     ]
    }
   ],
   "source": [
    "map(lambda x: remove_pukt(x).lower().split(),sent_list)"
   ]
  },
  {
   "cell_type": "code",
   "execution_count": 36,
   "metadata": {
    "collapsed": true
   },
   "outputs": [],
   "source": [
    "word_sent_list=map(lambda x: remove_pukt(x).lower().split(),sent_list)"
   ]
  },
  {
   "cell_type": "code",
   "execution_count": 37,
   "metadata": {
    "collapsed": false
   },
   "outputs": [
    {
     "data": {
      "text/plain": [
       "[15, 15, 8, 20, 17, 17, 25, 28, 7]"
      ]
     },
     "execution_count": 37,
     "metadata": {},
     "output_type": "execute_result"
    }
   ],
   "source": [
    "map(len,word_sent_list)"
   ]
  },
  {
   "cell_type": "code",
   "execution_count": 88,
   "metadata": {
    "collapsed": true
   },
   "outputs": [],
   "source": [
    "params=[ 4.60009789, -0.8802993 ]\n",
    "import numpy as np\n",
    "def equiv_sylb(freq,params):\n",
    "    return 7/np.sqrt(freq)"
   ]
  },
  {
   "cell_type": "code",
   "execution_count": null,
   "metadata": {
    "collapsed": true
   },
   "outputs": [],
   "source": []
  },
  {
   "cell_type": "code",
   "execution_count": 62,
   "metadata": {
    "collapsed": false
   },
   "outputs": [
    {
     "data": {
      "text/plain": [
       "185.97396035548638"
      ]
     },
     "execution_count": 62,
     "metadata": {},
     "output_type": "execute_result"
    }
   ],
   "source": [
    "equiv_sylb(1,params)"
   ]
  },
  {
   "cell_type": "code",
   "execution_count": 63,
   "metadata": {
    "collapsed": true
   },
   "outputs": [],
   "source": [
    "import pandas as pd"
   ]
  },
  {
   "cell_type": "code",
   "execution_count": 66,
   "metadata": {
    "collapsed": false
   },
   "outputs": [],
   "source": [
    "freq_ser=pd.read_pickle('brown_frequency.pkl')"
   ]
  },
  {
   "cell_type": "code",
   "execution_count": 72,
   "metadata": {
    "collapsed": false
   },
   "outputs": [],
   "source": [
    "just_words=[item for sublist in words_sent_list for item in sublist]"
   ]
  },
  {
   "cell_type": "code",
   "execution_count": 91,
   "metadata": {
    "collapsed": false
   },
   "outputs": [],
   "source": [
    "frequency=np.array(map(lambda x: get_frequency(x,freq_ser),just_words))"
   ]
  },
  {
   "cell_type": "code",
   "execution_count": 92,
   "metadata": {
    "collapsed": false
   },
   "outputs": [
    {
     "data": {
      "text/plain": [
       "array([ 0.42759306,  0.07610944,  9.89949494,  9.89949494,  0.26141979,\n",
       "        9.89949494,  2.47487373,  1.69774938,  0.20165292,  2.11057941,\n",
       "        0.08158309,  0.875     ,  0.07610944,  1.80739223,  3.5       ,\n",
       "        0.22663337,  0.07610944,  0.05210405,  3.13049517,  9.89949494,\n",
       "        9.89949494,  0.42365927,  0.1688832 ,  0.12224394,  1.42886902,\n",
       "        7.        ,  0.3072659 ,  0.18344985,  1.64991582,  1.15079291,\n",
       "        0.09742918,  0.44812908,  9.89949494,  0.94387981,  7.        ,\n",
       "        0.27043359,  1.34715063,  4.04145188,  0.24779731,  0.27043359,\n",
       "        0.30291963,  0.25242646,  7.        ,  1.87082869,  0.07855752,\n",
       "        1.2780193 ,  0.21928602,  3.5       ,  0.38592249,  0.05210405,\n",
       "        0.72199487,  0.09742918,  0.05210405,  1.03209369,  0.07610944,\n",
       "        0.05210405,  0.94387981,  9.89949494,  1.42886902,  0.38651034,\n",
       "        0.20982173,  7.        ,  0.21971769,  0.30291963,  2.21359436,\n",
       "        0.21928602,  3.5       ,  0.27414116,  2.85773803,  0.08158309,\n",
       "        1.4596009 ,  0.14820002,  0.05210405,  9.89949494,  0.42759306,\n",
       "        0.24779731,  0.27043359,  0.52320456,  7.        ,  4.04145188,\n",
       "        0.44008623,  0.12224394,  0.21896394,  0.3699615 ,  0.34075467,\n",
       "        0.42058924,  0.14476907,  0.30291963,  3.13049517,  0.05210405,\n",
       "        0.52320456,  0.34197238,  1.75      ,  0.12224394,  7.        ,\n",
       "        0.30291963,  1.64991582,  0.47409982,  0.14476907,  0.05210405,\n",
       "        4.04145188,  0.07855752,  0.77777778,  0.09742918,  0.05210405,\n",
       "        0.94387981,  1.03209369,  0.07328738,  0.12224394,  0.21896394,\n",
       "        0.27043359,  9.89949494,  0.48304589,  0.44905021,  0.07610944,\n",
       "        0.98019606,  0.16042224,  0.08158309,  0.44812908,  9.89949494,\n",
       "        0.27414116,  0.34035165,  1.21854359,  0.25997347,  1.56524758,\n",
       "        1.60591014,  0.07610944,  0.29875272,  0.78756153,  0.09742918,\n",
       "        2.47487373,  1.94145069,  0.14820002,  0.25997347,  4.94974747,\n",
       "        9.89949494,  0.61394061,  0.07855752,  0.34075467,  0.34197238,\n",
       "        1.64991582,  0.25242646,  0.20982173,  1.94145069,  0.27043359,\n",
       "        7.        ,  1.2780193 ,  3.13049517,  0.16042224,  4.04145188,\n",
       "        1.75      ])"
      ]
     },
     "execution_count": 92,
     "metadata": {},
     "output_type": "execute_result"
    }
   ],
   "source": [
    "equiv_sylb(frequency,params)"
   ]
  },
  {
   "cell_type": "code",
   "execution_count": 90,
   "metadata": {
    "collapsed": true
   },
   "outputs": [],
   "source": [
    "def get_frequency(word,ser):\n",
    "    try:\n",
    "        return ser.loc[word]\n",
    "    except KeyError:\n",
    "        return 0.5\n"
   ]
  },
  {
   "cell_type": "code",
   "execution_count": null,
   "metadata": {
    "collapsed": true
   },
   "outputs": [],
   "source": []
  }
 ],
 "metadata": {
  "kernelspec": {
   "display_name": "Python 2",
   "language": "python",
   "name": "python2"
  },
  "language_info": {
   "codemirror_mode": {
    "name": "ipython",
    "version": 2
   },
   "file_extension": ".py",
   "mimetype": "text/x-python",
   "name": "python",
   "nbconvert_exporter": "python",
   "pygments_lexer": "ipython2",
   "version": "2.7.6"
  }
 },
 "nbformat": 4,
 "nbformat_minor": 0
}
